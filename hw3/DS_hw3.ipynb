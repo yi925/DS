{
  "nbformat": 4,
  "nbformat_minor": 0,
  "metadata": {
    "colab": {
      "provenance": [],
      "gpuType": "T4"
    },
    "kernelspec": {
      "name": "python3",
      "display_name": "Python 3"
    },
    "language_info": {
      "name": "python"
    },
    "accelerator": "GPU"
  },
  "cells": [
    {
      "cell_type": "code",
      "execution_count": 2,
      "metadata": {
        "colab": {
          "base_uri": "https://localhost:8080/"
        },
        "id": "L6AAavRRyLjl",
        "outputId": "f8a92ec0-d1e1-48bf-bd49-aa252ac88c55"
      },
      "outputs": [
        {
          "output_type": "stream",
          "name": "stdout",
          "text": [
            "[2, 3, 4, 2, 3, 4]\n",
            "yes\n",
            "1 2 2 3 4\n"
          ]
        }
      ],
      "source": [
        "def range_query(a, b, data_structure):\n",
        "    result = []\n",
        "    for item in data_structure:\n",
        "        if a <= item <= b:\n",
        "            result.append(item)\n",
        "    return result\n",
        "\n",
        "#如果兩集合中元素相同且元素出現次數也相同就return yes, else return no\n",
        "def equivalent(S1, S2):\n",
        "\n",
        "    if set(S1) == set(S2):\n",
        "        for item in set(S1):\n",
        "            if S1.count(item) != S2.count(item):\n",
        "                return \"no\"\n",
        "        return \"yes\"\n",
        "    return \"no\"\n",
        "\n",
        "def print_multiset(S):\n",
        "\n",
        "    print(*S)\n",
        "\n",
        "\n",
        "#測試\n",
        "data = [1, 2, 3, 4, 5, 2, 3, 4]\n",
        "print(range_query(2, 4, data))  # [2, 3, 4, 2, 3, 4]\n",
        "print(equivalent([1, 2, 2, 3], [2, 3, 1, 2]))  # yes\n",
        "print_multiset([1, 2, 2, 3, 4])  # 1 2 2 3 4\n"
      ]
    },
    {
      "cell_type": "markdown",
      "source": [
        "###sorted array"
      ],
      "metadata": {
        "id": "la2icaFr2qKV"
      }
    },
    {
      "cell_type": "code",
      "source": [
        "class SortedArray:\n",
        "\n",
        "    #初始化\n",
        "    def __init__(self):\n",
        "        self.array = []\n",
        "\n",
        "    #insert方法:insert後排序\n",
        "    def insert(self, value):\n",
        "        self.array.append(value)\n",
        "        self.array.sort()\n",
        "\n",
        "    #range query:印出在start與end之間所有的數到result\n",
        "    def range_query(self, start, end):\n",
        "        result = []\n",
        "        for num in self.array:\n",
        "            if start <= num <= end:\n",
        "                result.append(num)\n",
        "            if num > end:\n",
        "                break\n",
        "        return result\n",
        "\n",
        "    #刪除data\n",
        "    def remove(self, value):\n",
        "        if value in self.array:\n",
        "            self.array.remove(value)\n",
        "    #搜尋data\n",
        "    def search(self, value):\n",
        "        for value in self.array:\n",
        "            if value in self.array:\n",
        "                return True\n",
        "        return False\n",
        "    #印出\n",
        "    def display(self):\n",
        "        return self.array\n",
        "\n",
        "\n",
        "#測試\n",
        "sa = SortedArray()\n",
        "sa.insert(3)\n",
        "sa.insert(1)\n",
        "sa.insert(4)\n",
        "print(sa.display())  # [1, 3, 4]\n",
        "sa.insert(3)\n",
        "print(sa.range_query(1, 3)) # [1, 3, 3]\n",
        "sa.remove(1)\n",
        "print(sa.display())\n",
        "sa.search(3)"
      ],
      "metadata": {
        "colab": {
          "base_uri": "https://localhost:8080/"
        },
        "id": "1vB7GJx-2pjb",
        "outputId": "07c8ba92-86e2-44d1-b97f-094841c8e576"
      },
      "execution_count": 3,
      "outputs": [
        {
          "output_type": "stream",
          "name": "stdout",
          "text": [
            "[1, 3, 4]\n",
            "[1, 3, 3]\n",
            "[3, 3, 4]\n"
          ]
        },
        {
          "output_type": "execute_result",
          "data": {
            "text/plain": [
              "True"
            ]
          },
          "metadata": {},
          "execution_count": 3
        }
      ]
    },
    {
      "cell_type": "markdown",
      "source": [
        "###array of sorted arrays"
      ],
      "metadata": {
        "id": "YHyFTaS42z3M"
      }
    },
    {
      "cell_type": "code",
      "source": [
        "class ArrayOfSortedArrays:\n",
        "\n",
        "    #初始化\n",
        "    def __init__(self):\n",
        "        self.arrays = []\n",
        "\n",
        "    #insert subarray 並排序\n",
        "    def add_array(self, sub_array):\n",
        "        sub_array.sort()\n",
        "        self.arrays.append(sub_array)\n",
        "\n",
        "    #range query:印出在start與end之間所有的數到result\n",
        "    def range_query(self, start, end):\n",
        "        result = []\n",
        "        for sub_array in self.arrays:\n",
        "            for num in sub_array:\n",
        "                if start <= num <= end:\n",
        "                    result.append(num)\n",
        "                if num > end:\n",
        "                    break\n",
        "        return result\n",
        "\n",
        "    #搜尋data\n",
        "    def search(self, value):\n",
        "        for sub_array in self.arrays:\n",
        "            if value in sub_array:\n",
        "                return True\n",
        "        return False\n",
        "\n",
        "    #印出\n",
        "    def display(self):\n",
        "        return self.arrays\n",
        "\n",
        "\n",
        "#測試\n",
        "asa = ArrayOfSortedArrays()\n",
        "asa.add_array([3, 1, 4])\n",
        "asa.add_array([7, 5, 9])\n",
        "print(asa.display())  # [[1, 3, 4], [5, 7, 9]]\n",
        "print(asa.search(5))  # True\n",
        "print(asa.search(2))  # False\n",
        "print(asa.range_query(3, 7)) #[3, 4, 5, 7]"
      ],
      "metadata": {
        "colab": {
          "base_uri": "https://localhost:8080/"
        },
        "id": "BJ8vwREi2urp",
        "outputId": "e495c97e-c017-458a-c058-205d08fce22a"
      },
      "execution_count": 4,
      "outputs": [
        {
          "output_type": "stream",
          "name": "stdout",
          "text": [
            "[[1, 3, 4], [5, 7, 9]]\n",
            "True\n",
            "False\n",
            "[3, 4, 5, 7]\n"
          ]
        }
      ]
    },
    {
      "cell_type": "markdown",
      "source": [
        "###skip list"
      ],
      "metadata": {
        "id": "DGmIt4An25Wm"
      }
    },
    {
      "cell_type": "code",
      "source": [
        "import random\n",
        "\n",
        "class SkipListNode:\n",
        "\n",
        "    #每個node都一個值與forward列表\n",
        "    def __init__(self, value):\n",
        "        self.value = value\n",
        "        self.forward = []\n",
        "\n",
        "class SkipList:\n",
        "    def __init__(self):\n",
        "        self.head = SkipListNode(-float('inf'))  #first node負無窮大\n",
        "        self.tail = SkipListNode(float('inf'))  #last node正無窮大\n",
        "        self.head.forward = [self.tail]\n",
        "        self.max_level = 1\n",
        "\n",
        "    def random_level(self):\n",
        "        level = 1\n",
        "        while random.random() < 0.5 and level < self.max_level + 1: #擲銅板決定是否增加level\n",
        "            level += 1\n",
        "        return level\n",
        "\n",
        "    def insert(self, value):\n",
        "      level = self.random_level()\n",
        "      new_node = SkipListNode(value)\n",
        "      new_node.forward = [None] * level  # 初始化new node的每個層級\n",
        "\n",
        "      current = self.head\n",
        "      update = [None] * level  # 記錄每個層級的前一個節點\n",
        "\n",
        "      for i in range(self.max_level - 1, -1, -1): #從max level一路遞減到0的迴圈\n",
        "          while len(current.forward) > i and current.forward[i] and current.forward[i].value < value: #持續向前移動current node，直到找到應該插入新節點的位置\n",
        "            current = current.forward[i]\n",
        "          if i < level:\n",
        "            update[i] = current\n",
        "\n",
        "      if level > self.max_level:  #如果新節點的level超過max level，則需要擴展skip list\n",
        "          for i in range(self.max_level, level):\n",
        "            self.head.forward.append(None)  # 增加新的 None 到 self.head.forward\n",
        "          self.max_level = level #更新max level\n",
        "\n",
        "      #在每個level中，更新前一個節點和新節點之間的連接，將新節點插入到skip list\n",
        "      for i in range(level):\n",
        "          if update[i] is not None:\n",
        "              new_node.forward[i] = update[i].forward[i]\n",
        "              update[i].forward[i] = new_node\n",
        "          else:\n",
        "              self.head.forward[i] = new_node\n",
        "\n",
        "    def range_query(self, start, end):\n",
        "        result = []\n",
        "        current = self.head\n",
        "        for i in range(self.max_level - 1, -1, -1):    #從first node開始，找到第一個大於或等於start的節點\n",
        "            while current.forward[i] and current.forward[i].value < start:\n",
        "                current = current.forward[i]      #持續向前移動 current 節點，直到找到大於或等於 start 的節點\n",
        "        current = current.forward[0]              #將 current 更新為最底層的下一個節點，這是開始查詢範圍的地方\n",
        "\n",
        "        while current and current.value <= end:\n",
        "            result.append(current.value)\n",
        "            current = current.forward[0]\n",
        "\n",
        "        return result\n",
        "\n",
        "    def display(self):\n",
        "      result = []\n",
        "      current = self.head.forward[0]\n",
        "      while current != self.tail and current is not None:\n",
        "          result.append(current.value)\n",
        "          current = current.forward[0]\n",
        "      return result\n",
        "\n",
        "\n",
        "\n",
        "#測試\n",
        "sl = SkipList()\n",
        "sl.insert(3)\n",
        "sl.insert(1)\n",
        "sl.insert(4)\n",
        "print(sl.display())  # [1, 3, 4]\n",
        "print(sl.range_query(2, 4))"
      ],
      "metadata": {
        "colab": {
          "base_uri": "https://localhost:8080/"
        },
        "id": "bGpJMlz231g7",
        "outputId": "b24b0245-7c9a-47fd-e21b-bf868e69c590"
      },
      "execution_count": 5,
      "outputs": [
        {
          "output_type": "stream",
          "name": "stdout",
          "text": [
            "[1, 3, 4]\n",
            "[3, 4]\n"
          ]
        }
      ]
    },
    {
      "cell_type": "markdown",
      "source": [
        "###實驗"
      ],
      "metadata": {
        "id": "0YdcIkGb6A6Z"
      }
    },
    {
      "cell_type": "code",
      "source": [
        "import random\n",
        "import time\n",
        "\n",
        "# 1. 設定 n 和 k\n",
        "n = 2 ** 16 - 1                   #n = 2 ** 20 - 1\n",
        "k_values = [2 ** i for i in range(21)]      #k_values = [2 ** i for i in range(21)]\n",
        "\n",
        "# 2. 產生 n 個隨機數字\n",
        "random_numbers = [random.randint(0, n - 1) for _ in range(n)]\n",
        "\n",
        "# 3. 將數字存入檔案\n",
        "with open(\"random_numbers.txt\", \"w\") as file:\n",
        "    for num in random_numbers:\n",
        "        file.write(str(num) + \"\\n\")\n",
        "\n",
        "# 4. 讀取檔案並存入三個資料結構\n",
        "with open(\"random_numbers.txt\", \"r\") as file:\n",
        "    numbers = [int(line.strip()) for line in file] #將檔案中的所有數字放入一個list\n",
        "\n",
        "sa = SortedArray()\n",
        "asa = ArrayOfSortedArrays()\n",
        "sl = SkipList()\n",
        "\n",
        "for num in numbers:\n",
        "    sa.insert(num)\n",
        "    asa.add_array([num])\n",
        "    sl.insert(num)\n",
        "\n",
        "# 5. 隨機產生 a\n",
        "a = random.randint(0, n - 1)\n",
        "\n",
        "# 6. 執行 range_query 並測量時間\n",
        "for k in k_values:\n",
        "\n",
        "    # SortedArray\n",
        "    sa_start_time = time.time()\n",
        "    result_sa = sa.range_query(a, a + k)\n",
        "    sa_end_time = time.time()\n",
        "\n",
        "    # ArrayOfSortedArrays\n",
        "    asa_start_time = time.time()\n",
        "    result_asa = asa.range_query(a, a + k)\n",
        "    asa_end_time = time.time()\n",
        "\n",
        "    # SkipList\n",
        "    sl_start_time = time.time()\n",
        "    result_sl = sl.range_query(a, a + k)\n",
        "    sl_end_time = time.time()\n",
        "\n",
        "    print(f\"k = {k}, sorted array range query taken time = {sa_end_time - sa_start_time:.6f} seconds\")\n",
        "    print(f\"k = {k}, array of sorted arrays range query taken time = {asa_end_time - asa_start_time:.6f} seconds\")\n",
        "    print(f\"k = {k}, skip list range query taken time = {sl_end_time - sl_start_time:.6f} seconds\")\n",
        "\n",
        "# 7. 檢查 equivalent\n",
        "print(\"Equivalent Check:\")\n",
        "print(f\"SortedArray vs ArrayOfSortedArrays: {equivalent(result_sa, result_asa)}\")\n",
        "print(f\"SortedArray vs SkipList: {equivalent(result_sa, result_sl)}\")\n",
        "print(f\"ArrayOfSortedArrays vs SkipList: {equivalent(result_asa, result_sl)}\")\n"
      ],
      "metadata": {
        "colab": {
          "base_uri": "https://localhost:8080/"
        },
        "id": "oGCeeo2ngrq1",
        "outputId": "f5fd4848-e1a8-4be1-dd01-ae8349e3c429"
      },
      "execution_count": 6,
      "outputs": [
        {
          "output_type": "stream",
          "name": "stdout",
          "text": [
            "k = 1, sorted array range query taken time = 0.004207 seconds\n",
            "k = 1, array of sorted arrays range query taken time = 0.009612 seconds\n",
            "k = 1, skip list range query taken time = 0.000021 seconds\n",
            "k = 2, sorted array range query taken time = 0.003343 seconds\n",
            "k = 2, array of sorted arrays range query taken time = 0.009733 seconds\n",
            "k = 2, skip list range query taken time = 0.000020 seconds\n",
            "k = 4, sorted array range query taken time = 0.003273 seconds\n",
            "k = 4, array of sorted arrays range query taken time = 0.008875 seconds\n",
            "k = 4, skip list range query taken time = 0.000020 seconds\n",
            "k = 8, sorted array range query taken time = 0.003335 seconds\n",
            "k = 8, array of sorted arrays range query taken time = 0.009063 seconds\n",
            "k = 8, skip list range query taken time = 0.000024 seconds\n",
            "k = 16, sorted array range query taken time = 0.003276 seconds\n",
            "k = 16, array of sorted arrays range query taken time = 0.008762 seconds\n",
            "k = 16, skip list range query taken time = 0.000030 seconds\n",
            "k = 32, sorted array range query taken time = 0.003174 seconds\n",
            "k = 32, array of sorted arrays range query taken time = 0.008713 seconds\n",
            "k = 32, skip list range query taken time = 0.000035 seconds\n",
            "k = 64, sorted array range query taken time = 0.003229 seconds\n",
            "k = 64, array of sorted arrays range query taken time = 0.008811 seconds\n",
            "k = 64, skip list range query taken time = 0.000050 seconds\n",
            "k = 128, sorted array range query taken time = 0.003825 seconds\n",
            "k = 128, array of sorted arrays range query taken time = 0.008530 seconds\n",
            "k = 128, skip list range query taken time = 0.000086 seconds\n",
            "k = 256, sorted array range query taken time = 0.003293 seconds\n",
            "k = 256, array of sorted arrays range query taken time = 0.008581 seconds\n",
            "k = 256, skip list range query taken time = 0.000142 seconds\n",
            "k = 512, sorted array range query taken time = 0.003269 seconds\n",
            "k = 512, array of sorted arrays range query taken time = 0.008728 seconds\n",
            "k = 512, skip list range query taken time = 0.000265 seconds\n",
            "k = 1024, sorted array range query taken time = 0.003193 seconds\n",
            "k = 1024, array of sorted arrays range query taken time = 0.009175 seconds\n",
            "k = 1024, skip list range query taken time = 0.000437 seconds\n",
            "k = 2048, sorted array range query taken time = 0.003453 seconds\n",
            "k = 2048, array of sorted arrays range query taken time = 0.008533 seconds\n",
            "k = 2048, skip list range query taken time = 0.000856 seconds\n",
            "k = 4096, sorted array range query taken time = 0.003649 seconds\n",
            "k = 4096, array of sorted arrays range query taken time = 0.008616 seconds\n",
            "k = 4096, skip list range query taken time = 0.001681 seconds\n",
            "k = 8192, sorted array range query taken time = 0.004143 seconds\n",
            "k = 8192, array of sorted arrays range query taken time = 0.008882 seconds\n",
            "k = 8192, skip list range query taken time = 0.003151 seconds\n",
            "k = 16384, sorted array range query taken time = 0.006185 seconds\n",
            "k = 16384, array of sorted arrays range query taken time = 0.008285 seconds\n",
            "k = 16384, skip list range query taken time = 0.006191 seconds\n",
            "k = 32768, sorted array range query taken time = 0.006571 seconds\n",
            "k = 32768, array of sorted arrays range query taken time = 0.008384 seconds\n",
            "k = 32768, skip list range query taken time = 0.009770 seconds\n",
            "k = 65536, sorted array range query taken time = 0.007280 seconds\n",
            "k = 65536, array of sorted arrays range query taken time = 0.008488 seconds\n",
            "k = 65536, skip list range query taken time = 0.008079 seconds\n",
            "k = 131072, sorted array range query taken time = 0.007203 seconds\n",
            "k = 131072, array of sorted arrays range query taken time = 0.008409 seconds\n",
            "k = 131072, skip list range query taken time = 0.007617 seconds\n",
            "k = 262144, sorted array range query taken time = 0.007416 seconds\n",
            "k = 262144, array of sorted arrays range query taken time = 0.008414 seconds\n",
            "k = 262144, skip list range query taken time = 0.008066 seconds\n",
            "k = 524288, sorted array range query taken time = 0.006568 seconds\n",
            "k = 524288, array of sorted arrays range query taken time = 0.008667 seconds\n",
            "k = 524288, skip list range query taken time = 0.008244 seconds\n",
            "k = 1048576, sorted array range query taken time = 0.007218 seconds\n",
            "k = 1048576, array of sorted arrays range query taken time = 0.008601 seconds\n",
            "k = 1048576, skip list range query taken time = 0.008070 seconds\n",
            "Equivalent Check:\n",
            "SortedArray vs ArrayOfSortedArrays: yes\n",
            "SortedArray vs SkipList: yes\n",
            "ArrayOfSortedArrays vs SkipList: yes\n"
          ]
        }
      ]
    },
    {
      "cell_type": "markdown",
      "source": [
        "###折線圖"
      ],
      "metadata": {
        "id": "yyDGxezypg4S"
      }
    },
    {
      "cell_type": "code",
      "source": [
        "pip install matplotlib"
      ],
      "metadata": {
        "colab": {
          "base_uri": "https://localhost:8080/"
        },
        "id": "5mifIQowWO2p",
        "outputId": "db1cb01c-6d4e-4e47-ba75-fd931ae1f78f"
      },
      "execution_count": 7,
      "outputs": [
        {
          "output_type": "stream",
          "name": "stdout",
          "text": [
            "Requirement already satisfied: matplotlib in /usr/local/lib/python3.10/dist-packages (3.7.1)\n",
            "Requirement already satisfied: contourpy>=1.0.1 in /usr/local/lib/python3.10/dist-packages (from matplotlib) (1.2.0)\n",
            "Requirement already satisfied: cycler>=0.10 in /usr/local/lib/python3.10/dist-packages (from matplotlib) (0.12.1)\n",
            "Requirement already satisfied: fonttools>=4.22.0 in /usr/local/lib/python3.10/dist-packages (from matplotlib) (4.47.0)\n",
            "Requirement already satisfied: kiwisolver>=1.0.1 in /usr/local/lib/python3.10/dist-packages (from matplotlib) (1.4.5)\n",
            "Requirement already satisfied: numpy>=1.20 in /usr/local/lib/python3.10/dist-packages (from matplotlib) (1.23.5)\n",
            "Requirement already satisfied: packaging>=20.0 in /usr/local/lib/python3.10/dist-packages (from matplotlib) (23.2)\n",
            "Requirement already satisfied: pillow>=6.2.0 in /usr/local/lib/python3.10/dist-packages (from matplotlib) (9.4.0)\n",
            "Requirement already satisfied: pyparsing>=2.3.1 in /usr/local/lib/python3.10/dist-packages (from matplotlib) (3.1.1)\n",
            "Requirement already satisfied: python-dateutil>=2.7 in /usr/local/lib/python3.10/dist-packages (from matplotlib) (2.8.2)\n",
            "Requirement already satisfied: six>=1.5 in /usr/local/lib/python3.10/dist-packages (from python-dateutil>=2.7->matplotlib) (1.16.0)\n"
          ]
        }
      ]
    },
    {
      "cell_type": "code",
      "source": [
        "import matplotlib.pyplot as plt\n",
        "\n",
        "times_sa = []\n",
        "times_asa = []\n",
        "times_sl = []\n",
        "\n",
        "\n",
        "for k in k_values:\n",
        "\n",
        "        # SortedArray\n",
        "        sa_start_time = time.time()\n",
        "        for _ in range(10):  # 重複10次\n",
        "            result_sa = sa.range_query(a, a + k)\n",
        "        sa_end_time = time.time()\n",
        "        times_sa.append((sa_end_time - sa_start_time) / 10)  # 取平均\n",
        "\n",
        "        # ArrayOfSortedArrays\n",
        "        asa_start_time = time.time()\n",
        "        for _ in range(10):\n",
        "            result_asa = asa.range_query(a, a + k)\n",
        "        asa_end_time = time.time()\n",
        "        times_asa.append((asa_end_time - asa_start_time) / 10)\n",
        "\n",
        "        # SkipList\n",
        "        sl_start_time = time.time()\n",
        "        for _ in range(10):\n",
        "            result_sl = sl.range_query(a, a + k)\n",
        "        sl_end_time = time.time()\n",
        "        times_sl.append((sl_end_time - sl_start_time) / 10)\n",
        "\n",
        "# 繪製圖表\n",
        "plt.figure(figsize=(10, 6))\n",
        "plt.plot(k_values, times_sa, label='SortedArray', marker='o')\n",
        "plt.plot(k_values, times_asa, label='ArrayOfSortedArrays', marker='x')\n",
        "plt.plot(k_values, times_sl, label='SkipList', marker='s')\n",
        "plt.xlabel('k value')\n",
        "plt.ylabel('Average Time (seconds)')\n",
        "plt.title('Average Range Query Time Comparison (10 experiments)')\n",
        "plt.legend()\n",
        "plt.grid(True)\n",
        "plt.show()\n"
      ],
      "metadata": {
        "colab": {
          "base_uri": "https://localhost:8080/",
          "height": 564
        },
        "id": "hjx01HesofVc",
        "outputId": "808ff6ec-002c-4ba0-fa71-d076fcb859c5"
      },
      "execution_count": 8,
      "outputs": [
        {
          "output_type": "display_data",
          "data": {
            "text/plain": [
              "<Figure size 1000x600 with 1 Axes>"
            ],
            "image/png": "[encoded data removed]"
          },
          "metadata": {}
        }
      ]
    },
    {
      "cell_type": "code",
      "source": [],
      "metadata": {
        "id": "YhVvF_Saqcsy"
      },
      "execution_count": 8,
      "outputs": []
    }
  ]
}